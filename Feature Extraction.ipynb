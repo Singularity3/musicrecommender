{
 "cells": [
  {
   "cell_type": "code",
   "execution_count": 23,
   "metadata": {},
   "outputs": [],
   "source": [
    "import numpy as np\n",
    "from scipy import sparse\n",
    "from sklearn.preprocessing import normalize\n",
    "\n",
    "artistTags = np.zeros((18746, 12648))\n",
    "file = open(\"user_taggedartists.dat\").readlines()\n",
    "for line in file[1:]:\n",
    "    data = line.split('\\t')\n",
    "    artistTags[int(data[1])][int(data[2])] += 1\n",
    "artistTags = normalize(sparse.csr_matrix(artistTags))\n",
    "\n",
    "userArtists = np.zeros((2101, 18746))\n",
    "userGenres = np.zeros((2101, 12648))\n",
    "userExp = np.zeros(2101)\n",
    "file = open(\"user_artists.dat\").readlines()\n",
    "for line in file[1:]:\n",
    "    data = line.split('\\t')\n",
    "    userGenres[int(data[0])] += artistTags[int(data[1])]*int(data[2])\n",
    "    userArtists[int(data[0])][int(data[1])] += [int(data[2])]\n",
    "    userExp[int(data[0])] += 1\n",
    "userGenres = normalize(sparse.csr_matrix(userGenres))\n",
    "userExp = sparse.csr_matrix(userExp)\n",
    "userArtists = sparse.csr_matrix(userArtists)\n",
    "\n",
    "'''\n",
    "Final output:\n",
    "\n",
    "    artistTags: A normalized sparse matrix of tagged artists. Mostly used to calculate the userGenres matrix, probably not\n",
    "    useful for collaborative filtering. Could be good for content-based filtering.\n",
    "    \n",
    "    userGenres: A normalized sparse matrix of genre preferences for each user. This one's for finding nearest users, and all\n",
    "    of our target users will likely need to be processed in the same way.\n",
    "    \n",
    "    userExp: A sparse matrix of a very simple expert score for each user. Probably doesn't need to be sparse, but hey. \n",
    "    Used to divide distance to target users.\n",
    "    \n",
    "    userArtists: A sparse matrix of how much users have listened to each artist. Used for actually recommending artists once\n",
    "    the closest experts have been found, as you can just pull the top listened artist that the target user hasn't \n",
    "    already listened to from each closest expert (very simple, but possibly effective?).\n",
    "'''"
   ]
  },
  {
   "cell_type": "code",
   "execution_count": null,
   "metadata": {},
   "outputs": [],
   "source": []
  }
 ],
 "metadata": {
  "kernelspec": {
   "display_name": "Python 3",
   "language": "python",
   "name": "python3"
  },
  "language_info": {
   "codemirror_mode": {
    "name": "ipython",
    "version": 3
   },
   "file_extension": ".py",
   "mimetype": "text/x-python",
   "name": "python",
   "nbconvert_exporter": "python",
   "pygments_lexer": "ipython3",
   "version": "3.7.0"
  }
 },
 "nbformat": 4,
 "nbformat_minor": 2
}
