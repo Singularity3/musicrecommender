{
 "cells": [
  {
   "cell_type": "code",
   "execution_count": 1,
   "metadata": {},
   "outputs": [],
   "source": [
    "import numpy as np\n",
    "from scipy import sparse\n",
    "from sklearn.preprocessing import normalize"
   ]
  },
  {
   "cell_type": "code",
   "execution_count": 2,
   "metadata": {},
   "outputs": [],
   "source": [
    "def extractFeatures():\n",
    "    artistTags = np.zeros((18746, 12648))\n",
    "    file = open(\"user_taggedartists.dat\").readlines()\n",
    "    for line in file[1:]:\n",
    "        data = line.split('\\t')\n",
    "        artistTags[int(data[1])][int(data[2])] += 1\n",
    "    artistTags = normalize(sparse.csr_matrix(artistTags))\n",
    "\n",
    "    userArtists = np.zeros((2101, 18746))\n",
    "    userGenres = np.zeros((2101, 12648))\n",
    "    userExp = np.zeros(2101)\n",
    "    file = open(\"user_artists.dat\").readlines()\n",
    "    for line in file[1:]:\n",
    "        data = line.split('\\t')\n",
    "        userGenres[int(data[0])] += artistTags[int(data[1])]*int(data[2])\n",
    "        userArtists[int(data[0])][int(data[1])] += [int(data[2])]\n",
    "        userExp[int(data[0])] += 1\n",
    "    userGenres = normalize(userGenres)\n",
    "    return userGenres, userExp, userArtists"
   ]
  },
  {
   "cell_type": "code",
   "execution_count": 3,
   "metadata": {},
   "outputs": [],
   "source": [
    "userGenres, userExp, userArtists = extractFeatures()"
   ]
  },
  {
   "cell_type": "code",
   "execution_count": 4,
   "metadata": {},
   "outputs": [],
   "source": [
    "class modifiedEuclideanDistRecommender():\n",
    "    def __init__(self, k, genres, exp, artists):\n",
    "        self.k = k\n",
    "        self.exp = exp\n",
    "        self.genres = genres\n",
    "        self.artists = artists\n",
    "        \n",
    "    def closestExperts(self, genreVec):\n",
    "        tempGenres = np.subtract(self.genres, genreVec)\n",
    "        tempGenres = np.transpose(np.divide(np.transpose(tempGenres), self.exp))\n",
    "        dists = np.sqrt([np.dot(x, x) for x in tempGenres])\n",
    "        indices = np.zeros(self.k, dtype = \"i\")\n",
    "        for i in range(self.k):\n",
    "            indices[i] = np.nanargmin(dists)\n",
    "            dists[indices[i]] = float('nan')\n",
    "        return(indices)\n",
    "    \n",
    "    def recommend(self, genreVec):\n",
    "        experts = self.closestExperts(genreVec)\n",
    "        experts_artist_weight = {}\n",
    "        weights = np.zeros(len(self.artists[0]))\n",
    "        for i in experts:\n",
    "            weights = np.add(weights, self.artists[i])\n",
    "        return(weights)\n",
    "    \n",
    "    def topNArtists(self, genreVec, n):\n",
    "        recs = self.recommend(genreVec)\n",
    "        top = np.zeros(n, dtype = 'i')\n",
    "        for i in range(n):\n",
    "            top[i] = np.argmax(recs)\n",
    "            recs[top[i]] = 0\n",
    "        return(top)"
   ]
  },
  {
   "cell_type": "code",
   "execution_count": 46,
   "metadata": {},
   "outputs": [
    {
     "name": "stderr",
     "output_type": "stream",
     "text": [
      "/Users/badamosor/anaconda3/lib/python3.7/site-packages/ipykernel_launcher.py:10: RuntimeWarning: invalid value encountered in true_divide\n",
      "  # Remove the CWD from sys.path while we load stuff.\n",
      "/Users/badamosor/anaconda3/lib/python3.7/site-packages/ipykernel_launcher.py:10: RuntimeWarning: divide by zero encountered in true_divide\n",
      "  # Remove the CWD from sys.path while we load stuff.\n"
     ]
    }
   ],
   "source": [
    "numberOfRecommenders_vs_accuracy = []\n",
    "\n",
    "for numRecommender in range(1,11):\n",
    "    allaccuracy = 0\n",
    "    for i in range(20):\n",
    "        test_userId = np.random.choice((range(0, 2101)), replace=False)\n",
    "        genres = np.concatenate((userGenres[:test_userId],userGenres[test_userId+1:]), axis=0)\n",
    "        exp = np.concatenate((userExp[:test_userId],userExp[test_userId+1:]), axis=0)\n",
    "        artists = np.concatenate((userArtists[:test_userId],userArtists[test_userId+1:]), axis=0)\n",
    "    \n",
    "        recommender = modifiedEuclideanDistRecommender(numRecommender, genres, exp, artists)\n",
    "        recs = recommender.topNArtists(np.array(userGenres[test_userId, :]), 10)\n",
    "        correct = sum([1 for r in recs if userArtists[test_userId, r] != 0])/10\n",
    "        allaccuracy += correct\n",
    "    numberOfRecommenders_vs_accuracy.append(allaccuracy/20)"
   ]
  },
  {
   "cell_type": "code",
   "execution_count": 58,
   "metadata": {},
   "outputs": [
    {
     "data": {
      "image/png": "[encoded data removed]",
      "text/plain": [
       "<Figure size 432x288 with 1 Axes>"
      ]
     },
     "metadata": {
      "needs_background": "light"
     },
     "output_type": "display_data"
    }
   ],
   "source": [
    "import matplotlib.pyplot as plt\n",
    "plt.plot(numberOfRecommenders_vs_accuracy, 'r')\n",
    "plt.xlabel('Number of recommenders')\n",
    "plt.ylabel('Accuracy')\n",
    "plt.show()"
   ]
  },
  {
   "cell_type": "code",
   "execution_count": 53,
   "metadata": {},
   "outputs": [
    {
     "name": "stdout",
     "output_type": "stream",
     "text": [
      "[0.335, 0.44000000000000006, 0.4000000000000001, 0.35, 0.44000000000000006, 0.475, 0.595, 0.4600000000000001, 0.4200000000000001, 0.4950000000000001]\n"
     ]
    }
   ],
   "source": [
    "print(numberOfRecommenders_vs_accuracy)"
   ]
  },
  {
   "cell_type": "code",
   "execution_count": null,
   "metadata": {},
   "outputs": [],
   "source": [
    "import matplotlib.pyplot as plt\n",
    "plt.plot(numberOfRecommenders_vs_accuracy, 'r')\n",
    "plt.xlabel('Number of recommenders')\n",
    "plt.ylabel('Average accuracy')\n",
    "plt.show()"
   ]
  },
  {
   "cell_type": "code",
   "execution_count": null,
   "metadata": {},
   "outputs": [],
   "source": []
  }
 ],
 "metadata": {
  "kernelspec": {
   "display_name": "Python 3",
   "language": "python",
   "name": "python3"
  },
  "language_info": {
   "codemirror_mode": {
    "name": "ipython",
    "version": 3
   },
   "file_extension": ".py",
   "mimetype": "text/x-python",
   "name": "python",
   "nbconvert_exporter": "python",
   "pygments_lexer": "ipython3",
   "version": "3.7.1"
  }
 },
 "nbformat": 4,
 "nbformat_minor": 2
}
