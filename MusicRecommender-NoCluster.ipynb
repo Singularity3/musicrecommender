{
 "cells": [
  {
   "cell_type": "code",
   "execution_count": 2,
   "metadata": {},
   "outputs": [],
   "source": [
    "import numpy as np\n",
    "from scipy import sparse\n",
    "from sklearn.preprocessing import normalize"
   ]
  },
  {
   "cell_type": "code",
   "execution_count": 11,
   "metadata": {},
   "outputs": [],
   "source": [
    "def extractFeatures():\n",
    "    artistTags = np.zeros((18746, 12648))\n",
    "    file = open(\"user_taggedartists.dat\").readlines()\n",
    "    for line in file[1:]:\n",
    "        data = line.split('\\t')\n",
    "        artistTags[int(data[1])][int(data[2])] += 1\n",
    "    artistTags = normalize(sparse.csr_matrix(artistTags))\n",
    "\n",
    "    userArtists = np.zeros((2101, 18746))\n",
    "    userGenres = np.zeros((2101, 12648))\n",
    "    userExp = np.zeros(2101)\n",
    "    file = open(\"user_artists.dat\").readlines()\n",
    "    for line in file[1:]:\n",
    "        data = line.split('\\t')\n",
    "        userGenres[int(data[0])] += artistTags[int(data[1])]*int(data[2])\n",
    "        userArtists[int(data[0])][int(data[1])] += [int(data[2])]\n",
    "        userExp[int(data[0])] += 1\n",
    "    userGenres = normalize(userGenres)\n",
    "    return userGenres, userExp, userArtists"
   ]
  },
  {
   "cell_type": "code",
   "execution_count": 13,
   "metadata": {},
   "outputs": [],
   "source": [
    "userGenres, userExp, userArtists = extractFeatures()"
   ]
  },
  {
   "cell_type": "code",
   "execution_count": 46,
   "metadata": {},
   "outputs": [],
   "source": [
    "class modifiedEuclideanDistRecommender():\n",
    "    def __init__(self, k, genres, exp, artists):\n",
    "        self.k = k\n",
    "        self.exp = exp\n",
    "        self.genres = genres\n",
    "        self.artists = artists\n",
    "    def closestExperts(self, genreVec):\n",
    "        tempGenres = np.subtract(self.genres, genreVec)\n",
    "        tempGenres = np.transpose(np.divide(np.transpose(tempGenres), self.exp))\n",
    "        dists = np.sqrt([np.dot(x, x) for x in tempGenres])\n",
    "        indices = np.zeros(self.k, dtype = \"i\")\n",
    "        for i in range(self.k):\n",
    "            indices[i] = np.nanargmin(dists)\n",
    "            dists[indices[i]] = float('nan')\n",
    "        return(indices)\n",
    "    def recommend(self, genreVec):\n",
    "        experts = self.closestExperts(genreVec)\n",
    "        experts_artist_weight = {}\n",
    "        weights = np.zeros(len(self.artists[0]))\n",
    "        for i in experts:\n",
    "            weights = np.add(weights, self.artists[i])\n",
    "        return(weights)"
   ]
  },
  {
   "cell_type": "code",
   "execution_count": 47,
   "metadata": {},
   "outputs": [
    {
     "name": "stderr",
     "output_type": "stream",
     "text": [
      "C:\\Users\\Chris\\Anaconda3\\lib\\site-packages\\ipykernel_launcher.py:9: RuntimeWarning: divide by zero encountered in true_divide\n",
      "  if __name__ == '__main__':\n",
      "C:\\Users\\Chris\\Anaconda3\\lib\\site-packages\\ipykernel_launcher.py:9: RuntimeWarning: invalid value encountered in true_divide\n",
      "  if __name__ == '__main__':\n"
     ]
    },
    {
     "data": {
      "text/plain": [
       "array([0., 0., 0., ..., 0., 0., 0.])"
      ]
     },
     "execution_count": 47,
     "metadata": {},
     "output_type": "execute_result"
    }
   ],
   "source": [
    "recommender = modifiedEuclideanDistRecommender(10, userGenres, userExp, userArtists)\n",
    "recommender.recommend(np.array(userGenres[2100, :]))"
   ]
  },
  {
   "cell_type": "code",
   "execution_count": null,
   "metadata": {},
   "outputs": [],
   "source": []
  },
  {
   "cell_type": "code",
   "execution_count": null,
   "metadata": {},
   "outputs": [],
   "source": []
  }
 ],
 "metadata": {
  "kernelspec": {
   "display_name": "Python 3",
   "language": "python",
   "name": "python3"
  },
  "language_info": {
   "codemirror_mode": {
    "name": "ipython",
    "version": 3
   },
   "file_extension": ".py",
   "mimetype": "text/x-python",
   "name": "python",
   "nbconvert_exporter": "python",
   "pygments_lexer": "ipython3",
   "version": "3.7.1"
  }
 },
 "nbformat": 4,
 "nbformat_minor": 2
}
